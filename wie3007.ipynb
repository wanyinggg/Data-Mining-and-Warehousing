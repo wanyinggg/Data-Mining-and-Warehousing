{
 "cells": [
  {
   "cell_type": "code",
   "execution_count": 12,
   "metadata": {},
   "outputs": [],
   "source": [
    "import pandas as pd\n",
    "import featuretools as ft"
   ]
  },
  {
   "cell_type": "code",
   "execution_count": 14,
   "metadata": {},
   "outputs": [],
   "source": [
    "# Define the data as provided in the scenario for each entity\n",
    "customers_data = {\n",
    "    'CustomerID': [101, 102, 103],\n",
    "    'Name': ['John Doe', 'Jane Smith', 'Mike Jordan'],\n",
    "    'Email': ['john.doe@example.com', 'jane.smith@example.com', 'mike.jordan@example.com'],\n",
    "    'SignupDate': ['2023-01-10', '2023-01-15', '2023-01-20'],\n",
    "    'Address':  ['1, Jalan Megah, 41050, Klang, Selangor', \n",
    "                 '2, Jalan Bahagia, 40170, Shah Alam, Selangor', \n",
    "                 '3, Jalan Ceria, 83000, Batu Pahat, Johor'],\n",
    "    'Postcode': ['41050', '40170', '83000'],\n",
    "    'City': ['Klang', 'Shah Alam', 'Batu Pahat'],\n",
    "    'State': ['Selangor', 'Selangor', 'Johor'],\n",
    "}\n",
    "\n",
    "products_data = {\n",
    "    'ProductID': [201, 202, 203],\n",
    "    'Name': ['Laptop', 'Tablet', 'Smartphone'],\n",
    "    'Category': ['Electronics', 'Electronics', 'Electronics'],\n",
    "    'Price': [1000, 500, 800]\n",
    "}\n",
    "\n",
    "orders_data = {\n",
    "    'OrderID': [301, 302, 303, 304, 305, 306],\n",
    "    'CustomerID': [101, 102, 102, 103, 103, 103],\n",
    "    'OrderDate': ['2021-02-01', '2021-02-05', '2022-09-20','2021-07-15', '2022-08-20', '2023-02-10'],\n",
    "    'ShipDate': ['2021-02-03', '2021-02-07', '2022-09-30', '2021-07-17', '2022-08-22',  '2023-02-12']\n",
    "}\n",
    "\n",
    "order_details_data = {\n",
    "    'OrderID': [301, 302, 303, 304, 305, 306],\n",
    "    'ProductID': [201, 202, 203, 202, 201, 203],\n",
    "    'Quantity': [1, 2, 1, 3, 1, 1],\n",
    "    'Discount': [0, 0.9, 0, 0.05, 0, 0.9]\n",
    "}\n",
    "\n",
    "# Convert the data into pandas DataFrames\n",
    "customers_df = pd.DataFrame(customers_data)\n",
    "products_df = pd.DataFrame(products_data)\n",
    "orders_df = pd.DataFrame(orders_data)\n",
    "order_details_df = pd.DataFrame(order_details_data)\n",
    "\n",
    "# Convert the SignupDate, OrderDate, and ShipDate to datetime\n",
    "customers_df['SignupDate'] = pd.to_datetime(customers_df['SignupDate'])\n",
    "orders_df['OrderDate'] = pd.to_datetime(orders_df['OrderDate'])\n",
    "orders_df['ShipDate'] = pd.to_datetime(orders_df['ShipDate'])\n"
   ]
  },
  {
   "cell_type": "code",
   "execution_count": 15,
   "metadata": {},
   "outputs": [
    {
     "data": {
      "text/plain": [
       "Entityset: ecommerce_data\n",
       "  DataFrames:\n",
       "    customers [Rows: 3, Columns: 8]\n",
       "    products [Rows: 3, Columns: 4]\n",
       "    orders [Rows: 6, Columns: 4]\n",
       "    order_details [Rows: 6, Columns: 5]\n",
       "  Relationships:\n",
       "    orders.CustomerID -> customers.CustomerID\n",
       "    order_details.OrderID -> orders.OrderID\n",
       "    order_details.ProductID -> products.ProductID"
      ]
     },
     "execution_count": 15,
     "metadata": {},
     "output_type": "execute_result"
    }
   ],
   "source": [
    "# Create an EntitySet\n",
    "es = ft.EntitySet(id='ecommerce_data')\n",
    "\n",
    "# Add dataframes\n",
    "es = es.add_dataframe(dataframe_name='customers',dataframe=customers_df,index='CustomerID',time_index='SignupDate')\n",
    "es = es.add_dataframe(dataframe_name='products',dataframe=products_df,index='ProductID')\n",
    "es = es.add_dataframe(dataframe_name='orders',dataframe=orders_df,index='OrderID',time_index='OrderDate')\n",
    "es = es.add_dataframe(dataframe_name='order_details',dataframe=order_details_df,make_index=True,index='OrderDetailsID')\n",
    "\n",
    "# Add relationships\n",
    "es = es.add_relationship('customers', 'CustomerID', 'orders', 'CustomerID')\n",
    "es = es.add_relationship('orders', 'OrderID', 'order_details', 'OrderID')\n",
    "es = es.add_relationship('products', 'ProductID', 'order_details', 'ProductID')\n",
    "\n",
    "es\n"
   ]
  },
  {
   "cell_type": "code",
   "execution_count": 17,
   "metadata": {},
   "outputs": [
    {
     "data": {
      "text/plain": [
       "[<Feature: CustomerID>,\n",
       " <Feature: COUNT(order_details)>,\n",
       " <Feature: MAX(order_details.Discount)>,\n",
       " <Feature: MAX(order_details.Quantity)>,\n",
       " <Feature: MEAN(order_details.Discount)>,\n",
       " <Feature: MEAN(order_details.Quantity)>,\n",
       " <Feature: MIN(order_details.Discount)>,\n",
       " <Feature: MIN(order_details.Quantity)>,\n",
       " <Feature: SKEW(order_details.Discount)>,\n",
       " <Feature: SKEW(order_details.Quantity)>,\n",
       " <Feature: STD(order_details.Discount)>,\n",
       " <Feature: STD(order_details.Quantity)>,\n",
       " <Feature: SUM(order_details.Discount)>,\n",
       " <Feature: SUM(order_details.Quantity)>,\n",
       " <Feature: DAY(OrderDate)>,\n",
       " <Feature: DAY(ShipDate)>,\n",
       " <Feature: MONTH(OrderDate)>,\n",
       " <Feature: MONTH(ShipDate)>,\n",
       " <Feature: WEEKDAY(OrderDate)>,\n",
       " <Feature: WEEKDAY(ShipDate)>,\n",
       " <Feature: YEAR(OrderDate)>,\n",
       " <Feature: YEAR(ShipDate)>,\n",
       " <Feature: customers.Postcode>,\n",
       " <Feature: MAX(order_details.products.Price)>,\n",
       " <Feature: MEAN(order_details.products.Price)>,\n",
       " <Feature: MIN(order_details.products.Price)>,\n",
       " <Feature: SKEW(order_details.products.Price)>,\n",
       " <Feature: STD(order_details.products.Price)>,\n",
       " <Feature: SUM(order_details.products.Price)>,\n",
       " <Feature: customers.COUNT(orders)>,\n",
       " <Feature: customers.COUNT(order_details)>,\n",
       " <Feature: customers.MAX(order_details.Discount)>,\n",
       " <Feature: customers.MAX(order_details.Quantity)>,\n",
       " <Feature: customers.MEAN(order_details.Discount)>,\n",
       " <Feature: customers.MEAN(order_details.Quantity)>,\n",
       " <Feature: customers.MIN(order_details.Discount)>,\n",
       " <Feature: customers.MIN(order_details.Quantity)>,\n",
       " <Feature: customers.SKEW(order_details.Discount)>,\n",
       " <Feature: customers.SKEW(order_details.Quantity)>,\n",
       " <Feature: customers.STD(order_details.Discount)>,\n",
       " <Feature: customers.STD(order_details.Quantity)>,\n",
       " <Feature: customers.SUM(order_details.Discount)>,\n",
       " <Feature: customers.SUM(order_details.Quantity)>,\n",
       " <Feature: customers.DAY(SignupDate)>,\n",
       " <Feature: customers.MONTH(SignupDate)>,\n",
       " <Feature: customers.WEEKDAY(SignupDate)>,\n",
       " <Feature: customers.YEAR(SignupDate)>]"
      ]
     },
     "execution_count": 17,
     "metadata": {},
     "output_type": "execute_result"
    }
   ],
   "source": [
    "# Assuming 'es' is your EntitySet and is correctly set up\n",
    "feature_matrix, feature_defs = ft.dfs(entityset=es, \n",
    "                                      target_dataframe_name='orders')\n",
    "\n",
    "\n",
    "file_path = '/Users/wanying/Desktop/feature_matrix.xlsx'\n",
    "feature_matrix.to_excel(file_path, index=False)\n",
    "\n",
    "\n",
    "feature_defs\n"
   ]
  }
 ],
 "metadata": {
  "kernelspec": {
   "display_name": "Python 3",
   "language": "python",
   "name": "python3"
  },
  "language_info": {
   "codemirror_mode": {
    "name": "ipython",
    "version": 3
   },
   "file_extension": ".py",
   "mimetype": "text/x-python",
   "name": "python",
   "nbconvert_exporter": "python",
   "pygments_lexer": "ipython3",
   "version": "3.10.4 (v3.10.4:9d38120e33, Mar 23 2022, 17:29:05) [Clang 13.0.0 (clang-1300.0.29.30)]"
  },
  "orig_nbformat": 4,
  "vscode": {
   "interpreter": {
    "hash": "7e1998ff7f8aa20ada591c520b972326324e5ea05489af9e422744c7c09f6dad"
   }
  }
 },
 "nbformat": 4,
 "nbformat_minor": 2
}
